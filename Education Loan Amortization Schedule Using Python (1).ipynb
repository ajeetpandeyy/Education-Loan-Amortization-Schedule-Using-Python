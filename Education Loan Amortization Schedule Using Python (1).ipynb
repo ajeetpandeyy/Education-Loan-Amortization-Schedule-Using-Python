{
 "cells": [
  {
   "cell_type": "markdown",
   "metadata": {},
   "source": [
    "# In Financial World, Analyst generally used MS Excell to calculate calculating principal and interest portion of installment using PPMT, IPMT functions, doing the same using popular data science programming languages Python"
   ]
  },
  {
   "cell_type": "raw",
   "metadata": {},
   "source": [
    "When you take Education loan from bank at x% annual interest rate for N number of years. Bank calculates monthly (or quarterly) instalments based on the following factors :\n",
    "Loan Amount, Annual Interest Rate, Number of payments per year, Number of years for loan to be repaid in instalments"
   ]
  },
  {
   "cell_type": "raw",
   "metadata": {},
   "source": [
    "Loan Amortisation Schedule:\n",
    "It refers to table of periodic loan payments explaining the breakup of principal and interest in each instalment/EMI until the loan is repaid at the end of its stipulated term. Monthly instalments are generally same every month throughout term if interest and term is not changed."
   ]
  },
  {
   "cell_type": "code",
   "execution_count": 1,
   "metadata": {},
   "outputs": [],
   "source": [
    "#Monthly instalment is calculated based on the following formula assuming constant payment and constant interest rate\n",
    "#Ajeet Pandey\n",
    "#PMT  = (rate*(fv+pv*(1+ rate)^nper))/((1+rate*type)*(1-(1+ rate)^nper))\n",
    "#rate = Interest rate per month\n",
    "#fv   = future value after the full loan is repaid.\n",
    "#pv   = loan amount\n",
    "#nper = Number of payments for loan\n",
    "#type=0 = Payments are due at the end of the period. type = 1 Payments are due at the beginning of the period\n",
    "\n",
    "\n",
    "def PMT(rate, nper,pv, fv=0, type=0):\n",
    "    if rate!=0:\n",
    "               pmt = (rate*(fv+pv*(1+ rate)**nper))/((1+rate*type)*(1-(1+ rate)**nper))\n",
    "    else:\n",
    "               pmt = (-1*(fv+pv)/nper)  \n",
    "    return(pmt)\n",
    "\n",
    "\n",
    "#Interest portion of monthly instalment \n",
    "#Calculation behind this function is dependent on PMT function.\n",
    "#per = nth period\n",
    "def IPMT(rate, per, nper,pv, fv=0, type=0):\n",
    "  ipmt = -( ((1+rate)**(per-1)) * (pv*rate + PMT(rate, nper,pv, fv=0, type=0)) - PMT(rate, nper,pv, fv=0, type=0))\n",
    "  return(ipmt)\n",
    "\n",
    "\n",
    "#PPMT function returns principal portion of instalment.Difference between instalment amount and interest amount.\n",
    "def PPMT(rate, per, nper,pv, fv=0, type=0):\n",
    "  ppmt = PMT(rate, nper,pv, fv=0, type=0) - IPMT(rate, per, nper, pv, fv=0, type=0)\n",
    "  return(ppmt)"
   ]
  },
  {
   "cell_type": "code",
   "execution_count": 2,
   "metadata": {},
   "outputs": [],
   "source": [
    "#To calculate interest and principal amount of instalment of each period, \n",
    "#we need to loop PPMT and IPMT functions over sequence of periods of loan payment.\n",
    "\n",
    "import numpy as np\n",
    "import pandas as pd\n",
    "\n",
    "def amortisation_schedule(amount, annualinterestrate, paymentsperyear, years):\n",
    "\n",
    "    df = pd.DataFrame({'Principal' :[PPMT(annualinterestrate/paymentsperyear, i+1, paymentsperyear*years, amount)\n",
    "                                     for i in range(paymentsperyear*years)],\n",
    "                        'Interest' :[IPMT(annualinterestrate/paymentsperyear, i+1, paymentsperyear*years, amount)\n",
    "                                              for i in range(paymentsperyear*years)]\n",
    "                      }\n",
    "                     )\n",
    "    \n",
    "    df['Instalment'] = df.Principal + df.Interest\n",
    "    df['Balance'] = amount + np.cumsum(df.Principal) #Return the cumulative sum\n",
    "    return(df)\n"
   ]
  },
  {
   "cell_type": "code",
   "execution_count": 3,
   "metadata": {},
   "outputs": [],
   "source": [
    "df = amortisation_schedule(400000, 0.1055, 12, 4)"
   ]
  },
  {
   "cell_type": "code",
   "execution_count": 4,
   "metadata": {},
   "outputs": [
    {
     "data": {
      "text/html": [
       "<div>\n",
       "<style scoped>\n",
       "    .dataframe tbody tr th:only-of-type {\n",
       "        vertical-align: middle;\n",
       "    }\n",
       "\n",
       "    .dataframe tbody tr th {\n",
       "        vertical-align: top;\n",
       "    }\n",
       "\n",
       "    .dataframe thead th {\n",
       "        text-align: right;\n",
       "    }\n",
       "</style>\n",
       "<table border=\"1\" class=\"dataframe\">\n",
       "  <thead>\n",
       "    <tr style=\"text-align: right;\">\n",
       "      <th></th>\n",
       "      <th>Principal</th>\n",
       "      <th>Interest</th>\n",
       "      <th>Instalment</th>\n",
       "      <th>Balance</th>\n",
       "    </tr>\n",
       "  </thead>\n",
       "  <tbody>\n",
       "    <tr>\n",
       "      <th>0</th>\n",
       "      <td>-6734.346731</td>\n",
       "      <td>-3516.666667</td>\n",
       "      <td>-10251.013398</td>\n",
       "      <td>393265.653269</td>\n",
       "    </tr>\n",
       "    <tr>\n",
       "      <th>1</th>\n",
       "      <td>-6793.552863</td>\n",
       "      <td>-3457.460535</td>\n",
       "      <td>-10251.013398</td>\n",
       "      <td>386472.100406</td>\n",
       "    </tr>\n",
       "    <tr>\n",
       "      <th>2</th>\n",
       "      <td>-6853.279515</td>\n",
       "      <td>-3397.733883</td>\n",
       "      <td>-10251.013398</td>\n",
       "      <td>379618.820892</td>\n",
       "    </tr>\n",
       "    <tr>\n",
       "      <th>3</th>\n",
       "      <td>-6913.531264</td>\n",
       "      <td>-3337.482134</td>\n",
       "      <td>-10251.013398</td>\n",
       "      <td>372705.289628</td>\n",
       "    </tr>\n",
       "    <tr>\n",
       "      <th>4</th>\n",
       "      <td>-6974.312726</td>\n",
       "      <td>-3276.700671</td>\n",
       "      <td>-10251.013398</td>\n",
       "      <td>365730.976901</td>\n",
       "    </tr>\n",
       "  </tbody>\n",
       "</table>\n",
       "</div>"
      ],
      "text/plain": [
       "     Principal     Interest    Instalment        Balance\n",
       "0 -6734.346731 -3516.666667 -10251.013398  393265.653269\n",
       "1 -6793.552863 -3457.460535 -10251.013398  386472.100406\n",
       "2 -6853.279515 -3397.733883 -10251.013398  379618.820892\n",
       "3 -6913.531264 -3337.482134 -10251.013398  372705.289628\n",
       "4 -6974.312726 -3276.700671 -10251.013398  365730.976901"
      ]
     },
     "execution_count": 4,
     "metadata": {},
     "output_type": "execute_result"
    }
   ],
   "source": [
    "df.head(5)"
   ]
  },
  {
   "cell_type": "code",
   "execution_count": 5,
   "metadata": {},
   "outputs": [
    {
     "data": {
      "text/plain": [
       "<Figure size 640x480 with 1 Axes>"
      ]
     },
     "metadata": {},
     "output_type": "display_data"
    }
   ],
   "source": [
    "import matplotlib.pyplot as plt\n",
    "# gca stands for 'get current axis'\n",
    "ax = plt.gca()\n",
    "\n",
    "df.plot(kind='line',x='Principal',y='Interest',color='red',ax=ax)\n",
    "#df.plot(kind='scatter',x='Principal',y='Balance' ,color='green',ax=ax)\n",
    "plt.show()\n"
   ]
  },
  {
   "cell_type": "code",
   "execution_count": 6,
   "metadata": {},
   "outputs": [
    {
     "data": {
      "text/html": [
       "<div>\n",
       "<style scoped>\n",
       "    .dataframe tbody tr th:only-of-type {\n",
       "        vertical-align: middle;\n",
       "    }\n",
       "\n",
       "    .dataframe tbody tr th {\n",
       "        vertical-align: top;\n",
       "    }\n",
       "\n",
       "    .dataframe thead th {\n",
       "        text-align: right;\n",
       "    }\n",
       "</style>\n",
       "<table border=\"1\" class=\"dataframe\">\n",
       "  <thead>\n",
       "    <tr style=\"text-align: right;\">\n",
       "      <th></th>\n",
       "      <th>Principal</th>\n",
       "      <th>Interest</th>\n",
       "      <th>Instalment</th>\n",
       "      <th>Balance</th>\n",
       "    </tr>\n",
       "  </thead>\n",
       "  <tbody>\n",
       "    <tr>\n",
       "      <th>count</th>\n",
       "      <td>48.000000</td>\n",
       "      <td>48.000000</td>\n",
       "      <td>4.800000e+01</td>\n",
       "      <td>4.800000e+01</td>\n",
       "    </tr>\n",
       "    <tr>\n",
       "      <th>mean</th>\n",
       "      <td>-8333.333333</td>\n",
       "      <td>-1917.680064</td>\n",
       "      <td>-1.025101e+04</td>\n",
       "      <td>2.097914e+05</td>\n",
       "    </tr>\n",
       "    <tr>\n",
       "      <th>std</th>\n",
       "      <td>1019.710904</td>\n",
       "      <td>1019.710904</td>\n",
       "      <td>7.352954e-12</td>\n",
       "      <td>1.170058e+05</td>\n",
       "    </tr>\n",
       "    <tr>\n",
       "      <th>min</th>\n",
       "      <td>-10161.675335</td>\n",
       "      <td>-3516.666667</td>\n",
       "      <td>-1.025101e+04</td>\n",
       "      <td>3.725290e-09</td>\n",
       "    </tr>\n",
       "    <tr>\n",
       "      <th>25%</th>\n",
       "      <td>-9168.556777</td>\n",
       "      <td>-2787.109334</td>\n",
       "      <td>-1.025101e+04</td>\n",
       "      <td>1.139545e+05</td>\n",
       "    </tr>\n",
       "    <tr>\n",
       "      <th>50%</th>\n",
       "      <td>-8272.457669</td>\n",
       "      <td>-1978.555728</td>\n",
       "      <td>-1.025101e+04</td>\n",
       "      <td>2.167765e+05</td>\n",
       "    </tr>\n",
       "    <tr>\n",
       "      <th>75%</th>\n",
       "      <td>-7463.904064</td>\n",
       "      <td>-1082.456621</td>\n",
       "      <td>-1.025101e+04</td>\n",
       "      <td>3.095533e+05</td>\n",
       "    </tr>\n",
       "    <tr>\n",
       "      <th>max</th>\n",
       "      <td>-6734.346731</td>\n",
       "      <td>-89.338062</td>\n",
       "      <td>-1.025101e+04</td>\n",
       "      <td>3.932657e+05</td>\n",
       "    </tr>\n",
       "  </tbody>\n",
       "</table>\n",
       "</div>"
      ],
      "text/plain": [
       "          Principal     Interest    Instalment       Balance\n",
       "count     48.000000    48.000000  4.800000e+01  4.800000e+01\n",
       "mean   -8333.333333 -1917.680064 -1.025101e+04  2.097914e+05\n",
       "std     1019.710904  1019.710904  7.352954e-12  1.170058e+05\n",
       "min   -10161.675335 -3516.666667 -1.025101e+04  3.725290e-09\n",
       "25%    -9168.556777 -2787.109334 -1.025101e+04  1.139545e+05\n",
       "50%    -8272.457669 -1978.555728 -1.025101e+04  2.167765e+05\n",
       "75%    -7463.904064 -1082.456621 -1.025101e+04  3.095533e+05\n",
       "max    -6734.346731   -89.338062 -1.025101e+04  3.932657e+05"
      ]
     },
     "execution_count": 6,
     "metadata": {},
     "output_type": "execute_result"
    }
   ],
   "source": [
    "df.describe()"
   ]
  }
 ],
 "metadata": {
  "kernelspec": {
   "display_name": "Python 3",
   "language": "python",
   "name": "python3"
  },
  "language_info": {
   "codemirror_mode": {
    "name": "ipython",
    "version": 3
   },
   "file_extension": ".py",
   "mimetype": "text/x-python",
   "name": "python",
   "nbconvert_exporter": "python",
   "pygments_lexer": "ipython3",
   "version": "3.7.3"
  }
 },
 "nbformat": 4,
 "nbformat_minor": 2
}
